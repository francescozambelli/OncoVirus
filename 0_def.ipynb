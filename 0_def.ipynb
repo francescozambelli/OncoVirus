{
 "cells": [
  {
   "cell_type": "code",
   "execution_count": 1,
   "id": "03232e18-12cc-4fe8-a6a2-4ebb4c073da1",
   "metadata": {
    "tags": []
   },
   "outputs": [],
   "source": [
    "import sys\n",
    "sys.path.append('..')\n",
    "\n",
    "import numpy as np\n",
    "import networkx as nx\n",
    "import matplotlib.pyplot as plt\n",
    "import seaborn as sns\n",
    "import scipy as sp\n",
    "import pandas as pd\n",
    "import graph_tool as gt\n",
    "from tqdm import tqdm\n",
    "from operator import itemgetter\n",
    "from functools import reduce\n",
    "import itertools\n",
    "import os\n",
    "#from pymnet import *\n",
    "\n",
    "import MuxVizPy as mxp\n",
    "\n",
    "import warnings\n",
    "warnings.filterwarnings(\"ignore\")"
   ]
  },
  {
   "cell_type": "markdown",
   "id": "0f8f221f-b9bb-4502-becf-865a8bc623a5",
   "metadata": {},
   "source": [
    "Here we import some metadata useful for organizing the PPIs data of each virus.\n",
    "In order to simplify the analysis, it was created a dictionary associating each protein symbol appearing in the interactions data to a unique number _node_map.csv_"
   ]
  },
  {
   "cell_type": "code",
   "execution_count": 2,
   "id": "3bb35894-94d0-4219-a4bc-1ea5d4bd5ebc",
   "metadata": {},
   "outputs": [
    {
     "data": {
      "text/html": [
       "<div>\n",
       "<style scoped>\n",
       "    .dataframe tbody tr th:only-of-type {\n",
       "        vertical-align: middle;\n",
       "    }\n",
       "\n",
       "    .dataframe tbody tr th {\n",
       "        vertical-align: top;\n",
       "    }\n",
       "\n",
       "    .dataframe thead th {\n",
       "        text-align: right;\n",
       "    }\n",
       "</style>\n",
       "<table border=\"1\" class=\"dataframe\">\n",
       "  <thead>\n",
       "    <tr style=\"text-align: right;\">\n",
       "      <th></th>\n",
       "      <th>virus</th>\n",
       "      <th>viral.genes</th>\n",
       "      <th>human.targets</th>\n",
       "      <th>human.targets.frac</th>\n",
       "      <th>go.terms</th>\n",
       "      <th>go.terms.frac</th>\n",
       "      <th>vhg.links</th>\n",
       "      <th>neigh_order</th>\n",
       "      <th>virus_short</th>\n",
       "      <th>family</th>\n",
       "      <th>nodes_virus</th>\n",
       "      <th>nodes_human</th>\n",
       "      <th>ppis</th>\n",
       "      <th>isOncogenic</th>\n",
       "    </tr>\n",
       "  </thead>\n",
       "  <tbody>\n",
       "    <tr>\n",
       "      <th>0</th>\n",
       "      <td>African_swine_fever_virus__strain_Badajoz_1971...</td>\n",
       "      <td>2</td>\n",
       "      <td>4</td>\n",
       "      <td>0.000201</td>\n",
       "      <td>406</td>\n",
       "      <td>0.000803</td>\n",
       "      <td>461</td>\n",
       "      <td>0</td>\n",
       "      <td>African_swine_fever_virus</td>\n",
       "      <td>Asfarviridae</td>\n",
       "      <td>2</td>\n",
       "      <td>4</td>\n",
       "      <td>4</td>\n",
       "      <td>False</td>\n",
       "    </tr>\n",
       "    <tr>\n",
       "      <th>1</th>\n",
       "      <td>African_swine_fever_virus__strain_Badajoz_1971...</td>\n",
       "      <td>2</td>\n",
       "      <td>1703</td>\n",
       "      <td>0.085385</td>\n",
       "      <td>406</td>\n",
       "      <td>0.000803</td>\n",
       "      <td>80723</td>\n",
       "      <td>1</td>\n",
       "      <td>African_swine_fever_virus</td>\n",
       "      <td>Asfarviridae</td>\n",
       "      <td>2</td>\n",
       "      <td>4</td>\n",
       "      <td>4</td>\n",
       "      <td>False</td>\n",
       "    </tr>\n",
       "    <tr>\n",
       "      <th>2</th>\n",
       "      <td>Avian_infectious_bronchitis_virus__strain_Beau...</td>\n",
       "      <td>5</td>\n",
       "      <td>2794</td>\n",
       "      <td>0.140085</td>\n",
       "      <td>463</td>\n",
       "      <td>0.000916</td>\n",
       "      <td>167036</td>\n",
       "      <td>1</td>\n",
       "      <td>Avian_infectious_bronchitis_virus</td>\n",
       "      <td>Coronaviridae</td>\n",
       "      <td>5</td>\n",
       "      <td>9</td>\n",
       "      <td>9</td>\n",
       "      <td>False</td>\n",
       "    </tr>\n",
       "    <tr>\n",
       "      <th>3</th>\n",
       "      <td>Avian_infectious_bronchitis_virus__strain_Beau...</td>\n",
       "      <td>5</td>\n",
       "      <td>9</td>\n",
       "      <td>0.000451</td>\n",
       "      <td>463</td>\n",
       "      <td>0.000916</td>\n",
       "      <td>567</td>\n",
       "      <td>0</td>\n",
       "      <td>Avian_infectious_bronchitis_virus</td>\n",
       "      <td>Coronaviridae</td>\n",
       "      <td>5</td>\n",
       "      <td>9</td>\n",
       "      <td>9</td>\n",
       "      <td>False</td>\n",
       "    </tr>\n",
       "    <tr>\n",
       "      <th>4</th>\n",
       "      <td>Avian_leukosis_virus_RSA</td>\n",
       "      <td>1</td>\n",
       "      <td>1</td>\n",
       "      <td>0.000050</td>\n",
       "      <td>10</td>\n",
       "      <td>0.000020</td>\n",
       "      <td>12</td>\n",
       "      <td>0</td>\n",
       "      <td>Avian_leukosis_virus_RSA</td>\n",
       "      <td>Retroviridae</td>\n",
       "      <td>1</td>\n",
       "      <td>1</td>\n",
       "      <td>1</td>\n",
       "      <td>False</td>\n",
       "    </tr>\n",
       "  </tbody>\n",
       "</table>\n",
       "</div>"
      ],
      "text/plain": [
       "                                               virus  viral.genes  \\\n",
       "0  African_swine_fever_virus__strain_Badajoz_1971...            2   \n",
       "1  African_swine_fever_virus__strain_Badajoz_1971...            2   \n",
       "2  Avian_infectious_bronchitis_virus__strain_Beau...            5   \n",
       "3  Avian_infectious_bronchitis_virus__strain_Beau...            5   \n",
       "4                           Avian_leukosis_virus_RSA            1   \n",
       "\n",
       "   human.targets  human.targets.frac  go.terms  go.terms.frac  vhg.links  \\\n",
       "0              4            0.000201       406       0.000803        461   \n",
       "1           1703            0.085385       406       0.000803      80723   \n",
       "2           2794            0.140085       463       0.000916     167036   \n",
       "3              9            0.000451       463       0.000916        567   \n",
       "4              1            0.000050        10       0.000020         12   \n",
       "\n",
       "   neigh_order                        virus_short         family  nodes_virus  \\\n",
       "0            0          African_swine_fever_virus   Asfarviridae            2   \n",
       "1            1          African_swine_fever_virus   Asfarviridae            2   \n",
       "2            1  Avian_infectious_bronchitis_virus  Coronaviridae            5   \n",
       "3            0  Avian_infectious_bronchitis_virus  Coronaviridae            5   \n",
       "4            0           Avian_leukosis_virus_RSA   Retroviridae            1   \n",
       "\n",
       "   nodes_human  ppis  isOncogenic  \n",
       "0            4     4        False  \n",
       "1            4     4        False  \n",
       "2            9     9        False  \n",
       "3            9     9        False  \n",
       "4            1     1        False  "
      ]
     },
     "execution_count": 2,
     "metadata": {},
     "output_type": "execute_result"
    }
   ],
   "source": [
    "#dictionary containing a unquie mapping between name of the protein and a corresponding index\n",
    "node_map_df = pd.read_csv(\"../DataMNT/Files/node_map.csv\")\n",
    "node_map_dict = {k:(v-1) for k,v in zip(node_map_df[\"Prot\"], node_map_df[\"Index\"])}\n",
    "\n",
    "#virus metadata\n",
    "virus_metadata = pd.read_csv(\"../DataMNT/Files/viruses_metadata.csv\", header=0, sep=\";\")\n",
    "\n",
    "virus_metadata.head(5)"
   ]
  },
  {
   "cell_type": "markdown",
   "id": "be5059f2-4d8e-4e66-b67d-64ae94890645",
   "metadata": {},
   "source": [
    "## Human network"
   ]
  },
  {
   "cell_type": "markdown",
   "id": "825cf190-5088-4b08-95ea-70a7216061cb",
   "metadata": {},
   "source": [
    "We start by building the entire human interactome with data from BIOSTRING."
   ]
  },
  {
   "cell_type": "code",
   "execution_count": 5,
   "id": "1d336247-4d27-4ea3-938c-e1ad4a1dce32",
   "metadata": {
    "tags": []
   },
   "outputs": [],
   "source": [
    "human_ppi = pd.read_csv(\"../DataMNT/data_BIOGRID/BIOSTR_homo_sapiens.edges\", sep=\" \", header=None)\n",
    "human_ppi.columns=[\"source\",\"target\",\"weight\"]\n",
    "#human PPI connections with respective identificative index\n",
    "human_nodes = pd.read_csv(\"../DataMNT/data_BIOGRID//BIOSTR_homo_sapiens.nodes\", sep=\" \", index_col=0)\n",
    "\n",
    "human_map = dict(zip(human_nodes['nodeSymbol'], np.arange(len(human_nodes))))\n",
    "\n",
    "#create human PPI network\n",
    "human_g = gt.Graph(directed=False)\n",
    "human_g.add_edge_list(human_ppi.values)"
   ]
  },
  {
   "cell_type": "markdown",
   "id": "a596a044-86bd-4ea1-8555-08dcf19ee655",
   "metadata": {},
   "source": [
    "The following function creates a subset of the entire human interactome by starting from a list of proteins (directly targeted), and selecting them with their first neighbors and the edges between these nodes."
   ]
  },
  {
   "cell_type": "code",
   "execution_count": 5,
   "id": "de592b44-e139-44e8-806f-0aa5a2e21f13",
   "metadata": {
    "tags": []
   },
   "outputs": [],
   "source": [
    "def create_syntetic_virus(human_g, virus_targeted_proteins):\n",
    "    \"\"\"\n",
    "    function that return the subnetwork of the entire human PPI network corresponding to the subset of edges associated\n",
    "    to nodes that can either be directly targeted by the virus of being a n.n. of such nodes\n",
    "    Parameters:\n",
    "                human_g: graph tool network corresponding to the entire human PPI network\n",
    "                virus_targeted_proteins: array of strings corresponding to symbols of proteins directly \n",
    "                                         targetd by the virus\n",
    "    Outputs:\n",
    "                gf: network subset as explained in the  description\n",
    "                original_index_nodes: dictionary associating the nodes indexes in the subnetwork to the\n",
    "                                      indexes associated to the same nodes in the entire orginal network\n",
    "\n",
    "    \"\"\"\n",
    "\n",
    "    vtp = itemgetter(*virus_targeted_proteins)(human_map)\n",
    "    # find all the first nearest neighbors of the targeted proteins\n",
    "    first_neigh_nodes_rep=[]\n",
    "    if isinstance(vtp,np.int64):\n",
    "        first_neigh_nodes_rep.append(human_g.get_all_neighbors(vtp))\n",
    "        first_neigh_nodes=np.unique(np.concatenate([[vtp], np.concatenate(first_neigh_nodes_rep)]))\n",
    "    else:\n",
    "        for vi in vtp:\n",
    "            first_neigh_nodes_rep.append(human_g.get_all_neighbors(vi))\n",
    "        first_neigh_nodes=np.unique(np.concatenate([vtp, np.concatenate(first_neigh_nodes_rep)]))\n",
    "\n",
    "    # mask which tells which proteins in the human genome are the NN found above\n",
    "    neighbors_mask = np.isin(np.arange(len(human_nodes)), first_neigh_nodes)\n",
    "\n",
    "    # create vertex property map to remeber which node corresponds to which protein\n",
    "    labels = human_g.new_vertex_property(\"int\", np.arange(len(human_nodes)))\n",
    "    human_g.vertex_properties[\"labels\"]=labels\n",
    "\n",
    "    # create a view of a graph and hide all the vertices not in the mask\n",
    "    gw = gt.GraphView(human_g, vfilt=neighbors_mask)\n",
    "    # then create a new graph in which the hidden nodes are pruned\n",
    "    gf = gt.Graph(gw, prune=True)\n",
    "    #by doing these you can retrive the original names\n",
    "    original_index_nodes = gf.vp[\"labels\"].get_array()\n",
    "    return gf, original_index_nodes"
   ]
  },
  {
   "cell_type": "code",
   "execution_count": 6,
   "id": "a30421bb-8d34-40c5-9d38-8d2a9ff06953",
   "metadata": {},
   "outputs": [],
   "source": [
    "virus_nodes0_list, virus_nodes1_list = [], []\n",
    "virus_nodes0_dict, virus_nodes1_dict ={}, {}\n",
    "target_folder = \"../DataMNT/Virus_data_Enriched_0.7_Neigh_0/\"\n",
    "\n",
    "neigh_ord_1_indexes = virus_metadata[virus_metadata[\"neigh_order\"]==1].index.values\n",
    "\n",
    "for i, vi in enumerate(neigh_ord_1_indexes):\n",
    "    read_nodes = pd.read_csv(target_folder+\"/\"+virus_metadata.loc[vi,\"virus\"]+\"/nodes.csv\")\n",
    "    virus_nodes1 = list(read_nodes[read_nodes[\"type\"]==1].node)    \n",
    "    \n",
    "    virus_nodes1_list.append(virus_nodes1)\n",
    "    virus_nodes1_dict[virus_metadata.loc[vi,\"virus_short\"]] = virus_nodes1"
   ]
  },
  {
   "cell_type": "markdown",
   "id": "8edc42fb-9262-4c74-afd8-1515a5fc0928",
   "metadata": {},
   "source": [
    "## Create Viruses"
   ]
  },
  {
   "cell_type": "code",
   "execution_count": 7,
   "id": "c88986b6-5d86-40a8-8334-5723d60e2542",
   "metadata": {
    "tags": []
   },
   "outputs": [],
   "source": [
    "biostr_df = pd.read_csv(\"../DataMNT/data_BIOGRID/BIOSTR_homo_sapiens.nodes\", sep=\" \")\n",
    "\n",
    "biostr_map = dict(zip(biostr_df[\"nodeID\"], biostr_df[\"nodeSymbol\"]))"
   ]
  },
  {
   "cell_type": "markdown",
   "id": "3677bd19-0ed1-4dd7-9d19-7ed2ced22472",
   "metadata": {},
   "source": [
    "### Original"
   ]
  },
  {
   "cell_type": "code",
   "execution_count": 22,
   "id": "c4dcc49e-ba6f-46a3-ac49-5d94287445bc",
   "metadata": {
    "tags": []
   },
   "outputs": [
    {
     "name": "stderr",
     "output_type": "stream",
     "text": [
      "100%|█████████████████████████████████████████████| 1/1 [00:10<00:00, 10.27s/it]\n"
     ]
    }
   ],
   "source": [
    "human_g = gt.Graph(directed=False)\n",
    "human_g.add_edge_list(human_ppi.values)\n",
    "\n",
    "if not os.path.isdir(\"../DataMNT/SynteticViruses/\"+str(k)):\n",
    "    os.mkdir(\"../DataMNT/SynteticViruses/\"+str(k))\n",
    "for i in tqdm(range(len(virus_nodes1_list))):\n",
    "    g0, n0 = create_syntetic_virus(human_g, virus_nodes1_list[i])\n",
    "    name = virus_metadata.loc[neigh_ord_1_indexes[i], \"virus\"]\n",
    "    provv_dict = dict(zip(np.arange(len(n0)),n0))\n",
    "\n",
    "    g_df = pd.DataFrame(g0.get_edges())\n",
    "    g_df[\"source\"] = g_df[0].map(provv_dict).map(biostr_map)\n",
    "    g_df[\"target\"] = g_df[1].map(provv_dict).map(biostr_map)\n",
    "    \n",
    "    if not os.path.isdir(\"../DataMNT/SynteticViruses/\"+str(k)+\"/\"+name):\n",
    "        os.mkdir(\"../DataMNT/SynteticViruses/\"+str(k)+\"/\"+name)\n",
    "    \n",
    "    np.savetxt(X=np.array(n0), fname=\"../DataMNT/SynteticViruses/original\"+\"/\"+name+\"/nodes.txt\", fmt=\"%d\")\n",
    "    g_df[[\"source\", \"target\"]].to_csv(\"../DataMNT/SynteticViruses/original\"+\"/\"+name+\"/edges.csv\", index=False)"
   ]
  }
 ],
 "metadata": {
  "kernelspec": {
   "display_name": "compl",
   "language": "python",
   "name": "compl"
  },
  "language_info": {
   "codemirror_mode": {
    "name": "ipython",
    "version": 3
   },
   "file_extension": ".py",
   "mimetype": "text/x-python",
   "name": "python",
   "nbconvert_exporter": "python",
   "pygments_lexer": "ipython3",
   "version": "3.11.6"
  }
 },
 "nbformat": 4,
 "nbformat_minor": 5
}
